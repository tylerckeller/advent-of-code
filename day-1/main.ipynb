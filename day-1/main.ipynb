{
 "cells": [
  {
   "cell_type": "code",
   "execution_count": 2,
   "metadata": {},
   "outputs": [],
   "source": [
    "with open('input', 'r') as f:\n",
    "    data = f.read().splitlines()"
   ]
  },
  {
   "cell_type": "code",
   "execution_count": 3,
   "metadata": {},
   "outputs": [],
   "source": [
    "def find_calibration_values(data):\n",
    "    first_last_nums = []\n",
    "    string_to_int_dict = {\n",
    "        'one': '1',\n",
    "        'two': '2',\n",
    "        'three': '3',\n",
    "        'four': '4',\n",
    "        'five': '5',\n",
    "        'six': '6',\n",
    "        'seven': '7',\n",
    "        'eight': '8',\n",
    "        'nine': '9',\n",
    "    }\n",
    "    for i in range(len(data)):\n",
    "        starting_index_of_num_str_dict = {}\n",
    "        for k, v in string_to_int_dict.items():\n",
    "            if k in data[i]:\n",
    "                starting_index_of_num_str_dict[k] = data[i].index(k)\n",
    "        starting_index_of_num_str_dict = dict(sorted(starting_index_of_num_str_dict.items(), key=lambda item: item[1]))\n",
    "        for k, v in starting_index_of_num_str_dict.items():\n",
    "            if k in data[i]:\n",
    "                data[i].replace(k, string_to_int_dict[k])\n",
    "        nums = []\n",
    "        for c in data[i]:\n",
    "            if c.isdigit():\n",
    "                nums.append(c)\n",
    "        if len(nums) >= 2:\n",
    "            first_last_nums.append(int(nums[0] + nums[-1]))\n",
    "        else:\n",
    "            try:\n",
    "                first_last_nums.append(int(nums[0] + nums[0]))\n",
    "            except:\n",
    "                print(nums)\n",
    "\n",
    "    return sum(first_last_nums)"
   ]
  },
  {
   "cell_type": "code",
   "execution_count": 4,
   "metadata": {},
   "outputs": [
    {
     "data": {
      "text/plain": [
       "54390"
      ]
     },
     "execution_count": 4,
     "metadata": {},
     "output_type": "execute_result"
    }
   ],
   "source": [
    "find_calibration_values(data)"
   ]
  },
  {
   "cell_type": "code",
   "execution_count": 40,
   "metadata": {},
   "outputs": [
    {
     "data": {
      "text/plain": [
       "'x2ne34'"
      ]
     },
     "execution_count": 40,
     "metadata": {},
     "output_type": "execute_result"
    }
   ],
   "source": [
    "first_last_nums = []\n",
    "string_to_int_dict = {\n",
    "    'one': 1,\n",
    "    'two': 2,\n",
    "    'three': 3,\n",
    "    'four': 4,\n",
    "    'five': 5,\n",
    "    'six': 6,\n",
    "    'seven': 7,\n",
    "    'eight': 8,\n",
    "    'nine': 9,\n",
    "}\n",
    "\n",
    "data = 'xtwone3four'\n",
    "\n",
    "starting_index_of_num_str_dict = {}\n",
    "for k, v in string_to_int_dict.items():\n",
    "    if k in data:\n",
    "        starting_index_of_num_str_dict[k] = data.index(k)\n",
    "\n",
    "# sort dict by highest index\n",
    "starting_index_of_num_str_dict = dict(sorted(starting_index_of_num_str_dict.items(), key=lambda item: item[1]))\n",
    "\n",
    "for k, v in starting_index_of_num_str_dict.items():\n",
    "    if k in data:\n",
    "        data = data.replace(k, str(string_to_int_dict[k]))\n",
    "\n",
    "data\n"
   ]
  },
  {
   "cell_type": "code",
   "execution_count": null,
   "metadata": {},
   "outputs": [],
   "source": []
  }
 ],
 "metadata": {
  "kernelspec": {
   "display_name": "data",
   "language": "python",
   "name": "python3"
  },
  "language_info": {
   "codemirror_mode": {
    "name": "ipython",
    "version": 3
   },
   "file_extension": ".py",
   "mimetype": "text/x-python",
   "name": "python",
   "nbconvert_exporter": "python",
   "pygments_lexer": "ipython3",
   "version": "3.10.10"
  }
 },
 "nbformat": 4,
 "nbformat_minor": 2
}
