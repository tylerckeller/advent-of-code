{
 "cells": [
  {
   "cell_type": "code",
   "execution_count": 18,
   "metadata": {},
   "outputs": [],
   "source": [
    "with open('input', 'r') as f:\n",
    "    data = f.readlines()"
   ]
  },
  {
   "cell_type": "code",
   "execution_count": 19,
   "metadata": {},
   "outputs": [],
   "source": [
    "def setup_2d_array(data):\n",
    "    array = []\n",
    "    for line in data:\n",
    "        line = line.strip()\n",
    "        array.append(list(line))\n",
    "    return array\n",
    "\n",
    "array = setup_2d_array(data)"
   ]
  },
  {
   "cell_type": "code",
   "execution_count": 20,
   "metadata": {},
   "outputs": [
    {
     "name": "stdout",
     "output_type": "stream",
     "text": [
      "rows 140\n",
      "cols 140\n"
     ]
    }
   ],
   "source": [
    "print(\"rows\", len(array))\n",
    "print(\"cols\", len(array[0]))"
   ]
  },
  {
   "cell_type": "code",
   "execution_count": null,
   "metadata": {},
   "outputs": [],
   "source": [
    "def find_adjacent_numbers(array):\n",
    "    num_rows = len(array)\n",
    "    num_cols = len(array[0])\n",
    "    adj_nums = []\n",
    "    for row in range(len(array)):\n",
    "        for col in range(len(array[row])):\n",
    "            if array[row][col] != '.' and not array[row][col].isdigit():\n",
    "                # look up\n",
    "                if row > 0:\n",
    "                    pass\n",
    "    pass"
   ]
  }
 ],
 "metadata": {
  "kernelspec": {
   "display_name": "data",
   "language": "python",
   "name": "python3"
  },
  "language_info": {
   "codemirror_mode": {
    "name": "ipython",
    "version": 3
   },
   "file_extension": ".py",
   "mimetype": "text/x-python",
   "name": "python",
   "nbconvert_exporter": "python",
   "pygments_lexer": "ipython3",
   "version": "3.10.10"
  }
 },
 "nbformat": 4,
 "nbformat_minor": 2
}
