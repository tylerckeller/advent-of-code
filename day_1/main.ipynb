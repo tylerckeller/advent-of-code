{
 "cells": [
  {
   "cell_type": "code",
   "execution_count": 2,
   "metadata": {},
   "outputs": [
    {
     "name": "stdout",
     "output_type": "stream",
     "text": [
      "9vxfg\n",
      "19qdlpmdrxone7sevennine\n",
      "1dzntwofour9nineffck\n",
      "7bx8hpldgzqjheight\n",
      "joneseven2sseven64chvczzn\n",
      "seven82683\n",
      "7onefour1eighttwo5three\n",
      "8lmsk871eight7\n",
      "ninefivefive2nine5ntvscdfdsmvqgcbxxxt\n",
      "onepx6hbgdssfivexs\n"
     ]
    }
   ],
   "source": [
    "with open('input', 'r') as f:\n",
    "    data = f.read().splitlines()\n",
    "\n",
    "for i in range(10):\n",
    "    print(data[i])"
   ]
  },
  {
   "cell_type": "code",
   "execution_count": 21,
   "metadata": {},
   "outputs": [],
   "source": [
    "def find_calibration_values(data):\n",
    "    first_last_nums = []\n",
    "    string_to_int_dict = {\n",
    "        'one': 1,\n",
    "        'two': 2,\n",
    "        'three': 3,\n",
    "        'four': 4,\n",
    "        'five': 5,\n",
    "        'six': 6,\n",
    "        'seven': 7,\n",
    "        'eight': 8,\n",
    "        'nine': 9,\n",
    "    }\n",
    "    for k, v in string_to_int_dict.items():\n",
    "        for i in range(len(data)):\n",
    "            if k in data[i]:\n",
    "                data[i] = data[i].replace(k, str(v))\n",
    "    for i in range(len(data)):\n",
    "        nums = []\n",
    "        for c in data[i]:\n",
    "            if c.isdigit():\n",
    "                nums.append(c)\n",
    "        if len(nums) >= 2:\n",
    "            first_last_nums.append(int(nums[0] + nums[-1]))\n",
    "        else:\n",
    "            first_last_nums.append(int(nums[0] + nums[0]))\n",
    "\n",
    "    return sum(first_last_nums)"
   ]
  },
  {
   "cell_type": "code",
   "execution_count": null,
   "metadata": {},
   "outputs": [],
   "source": [
    "first_last_nums = []\n",
    "string_to_int_dict = {\n",
    "    'zero': 0,\n",
    "    'one': 1,\n",
    "    'two': 2,\n",
    "    'three': 3,\n",
    "    'four': 4,\n",
    "    'five': 5,\n",
    "    'six': 6,\n",
    "    'seven': 7,\n",
    "    'eight': 8,\n",
    "    'nine': 9,\n",
    "}\n",
    "for k, v in string_to_int_dict.items():\n",
    "    for i in range(len(data)):\n",
    "        if k in data[i]:\n",
    "            data[i] = data[i].replace(k, str(v))\n",
    "\n",
    "data"
   ]
  },
  {
   "cell_type": "code",
   "execution_count": 23,
   "metadata": {},
   "outputs": [
    {
     "data": {
      "text/plain": [
       "53655"
      ]
     },
     "execution_count": 23,
     "metadata": {},
     "output_type": "execute_result"
    }
   ],
   "source": [
    "find_calibration_values(data)"
   ]
  },
  {
   "cell_type": "code",
   "execution_count": 11,
   "metadata": {},
   "outputs": [
    {
     "data": {
      "text/plain": [
       "'4vmzcrhtdvnm6zfive5pkbhcxj'"
      ]
     },
     "execution_count": 11,
     "metadata": {},
     "output_type": "execute_result"
    }
   ],
   "source": [
    "data[-1]"
   ]
  },
  {
   "cell_type": "code",
   "execution_count": null,
   "metadata": {},
   "outputs": [],
   "source": []
  }
 ],
 "metadata": {
  "kernelspec": {
   "display_name": "data",
   "language": "python",
   "name": "python3"
  },
  "language_info": {
   "codemirror_mode": {
    "name": "ipython",
    "version": 3
   },
   "file_extension": ".py",
   "mimetype": "text/x-python",
   "name": "python",
   "nbconvert_exporter": "python",
   "pygments_lexer": "ipython3",
   "version": "3.10.10"
  }
 },
 "nbformat": 4,
 "nbformat_minor": 2
}
