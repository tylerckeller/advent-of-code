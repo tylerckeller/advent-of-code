{
 "cells": [
  {
   "cell_type": "code",
   "execution_count": 7,
   "metadata": {},
   "outputs": [
    {
     "data": {
      "text/plain": [
       "([40, 70, 98, 79], [215, 1051, 2147, 1005])"
      ]
     },
     "execution_count": 7,
     "metadata": {},
     "output_type": "execute_result"
    }
   ],
   "source": [
    "def parse_data_p1(datafile):\n",
    "    data = []\n",
    "    with open(datafile, 'r') as f:\n",
    "        data = f.read().splitlines()\n",
    "    time = [int(x.strip()) for x in data[0].split(':')[1].strip().split(' ') if x != '']\n",
    "    distance = [int(x.strip()) for x in data[1].split(':')[1].strip().split(' ') if x != '']\n",
    "    return time, distance\n",
    "\n",
    "parse_data_p1('input')"
   ]
  },
  {
   "cell_type": "code",
   "execution_count": 19,
   "metadata": {},
   "outputs": [
    {
     "name": "stdout",
     "output_type": "stream",
     "text": [
      "New distances:  [0, 39, 76, 111, 144, 175, 204, 231, 256, 279, 300, 319, 336, 351, 364, 375, 384, 391, 396, 399, 400, 399, 396, 391, 384, 375, 364, 351, 336, 319, 300, 279, 256, 231, 204, 175, 144, 111, 76, 39]\n",
      "Record 215\n",
      "Record breakers:  27\n",
      "New distances:  [0, 69, 136, 201, 264, 325, 384, 441, 496, 549, 600, 649, 696, 741, 784, 825, 864, 901, 936, 969, 1000, 1029, 1056, 1081, 1104, 1125, 1144, 1161, 1176, 1189, 1200, 1209, 1216, 1221, 1224, 1225, 1224, 1221, 1216, 1209, 1200, 1189, 1176, 1161, 1144, 1125, 1104, 1081, 1056, 1029, 1000, 969, 936, 901, 864, 825, 784, 741, 696, 649, 600, 549, 496, 441, 384, 325, 264, 201, 136, 69]\n",
      "Record 1051\n",
      "Record breakers:  27\n",
      "New distances:  [0, 97, 192, 285, 376, 465, 552, 637, 720, 801, 880, 957, 1032, 1105, 1176, 1245, 1312, 1377, 1440, 1501, 1560, 1617, 1672, 1725, 1776, 1825, 1872, 1917, 1960, 2001, 2040, 2077, 2112, 2145, 2176, 2205, 2232, 2257, 2280, 2301, 2320, 2337, 2352, 2365, 2376, 2385, 2392, 2397, 2400, 2401, 2400, 2397, 2392, 2385, 2376, 2365, 2352, 2337, 2320, 2301, 2280, 2257, 2232, 2205, 2176, 2145, 2112, 2077, 2040, 2001, 1960, 1917, 1872, 1825, 1776, 1725, 1672, 1617, 1560, 1501, 1440, 1377, 1312, 1245, 1176, 1105, 1032, 957, 880, 801, 720, 637, 552, 465, 376, 285, 192, 97]\n",
      "Record 2147\n",
      "Record breakers:  31\n",
      "New distances:  [0, 78, 154, 228, 300, 370, 438, 504, 568, 630, 690, 748, 804, 858, 910, 960, 1008, 1054, 1098, 1140, 1180, 1218, 1254, 1288, 1320, 1350, 1378, 1404, 1428, 1450, 1470, 1488, 1504, 1518, 1530, 1540, 1548, 1554, 1558, 1560, 1560, 1558, 1554, 1548, 1540, 1530, 1518, 1504, 1488, 1470, 1450, 1428, 1404, 1378, 1350, 1320, 1288, 1254, 1218, 1180, 1140, 1098, 1054, 1008, 960, 910, 858, 804, 748, 690, 630, 568, 504, 438, 370, 300, 228, 154, 78]\n",
      "Record 1005\n",
      "Record breakers:  48\n",
      "1084752\n"
     ]
    }
   ],
   "source": [
    "times, distances = parse_data_p1('input')\n",
    "\n",
    "all_record_breakers = []\n",
    "mult_result = 1\n",
    "for time, distance in zip(times, distances):\n",
    "    record_breakers = 0\n",
    "    speed = -1\n",
    "    new_distances = []\n",
    "    for i in range(time):\n",
    "        speed += 1\n",
    "        time_left = time - i\n",
    "        new_distances.append(speed * time_left)\n",
    "    print(\"New distances: \", new_distances)\n",
    "    print(\"Record\", distance)\n",
    "    record_breakers = sum([1 for x in new_distances if x > distance])\n",
    "    print(\"Record breakers: \", record_breakers)\n",
    "    mult_result *= record_breakers\n",
    "print(mult_result)"
   ]
  },
  {
   "cell_type": "code",
   "execution_count": null,
   "metadata": {},
   "outputs": [],
   "source": [
    "def parse_data_p2(datafile):\n",
    "    data = []\n",
    "    with open(datafile, 'r') as f:\n",
    "        data = f.read().splitlines()\n",
    "    time = [int(x.strip()) for x in data[0].split(':')[1].strip().split(' ') if x != '']\n",
    "    distance = [int(x.strip()) for x in data[1].split(':')[1].strip().split(' ') if x != '']\n",
    "    return time, distance\n"
   ]
  }
 ],
 "metadata": {
  "kernelspec": {
   "display_name": "data",
   "language": "python",
   "name": "python3"
  },
  "language_info": {
   "codemirror_mode": {
    "name": "ipython",
    "version": 3
   },
   "file_extension": ".py",
   "mimetype": "text/x-python",
   "name": "python",
   "nbconvert_exporter": "python",
   "pygments_lexer": "ipython3",
   "version": "3.10.10"
  }
 },
 "nbformat": 4,
 "nbformat_minor": 2
}
